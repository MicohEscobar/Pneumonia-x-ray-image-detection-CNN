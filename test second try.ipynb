{
 "cells": [
  {
   "cell_type": "code",
   "execution_count": 1,
   "metadata": {},
   "outputs": [],
   "source": [
    "#installing necessary libraries\n",
    "import tensorflow as tf\n",
    "from tensorflow.keras.optimizers import RMSprop\n",
    "from tensorflow.keras import layers, models\n",
    "from tensorflow import keras\n",
    "from tensorflow.keras.applications import ResNet50\n",
    "from tensorflow.keras.models import Model\n",
    "from tensorflow.keras.layers import Dense, GlobalAveragePooling2D\n",
    "from tensorflow.keras.preprocessing.image import ImageDataGenerator\n",
    "\n"
   ]
  },
  {
   "cell_type": "code",
   "execution_count": 2,
   "metadata": {},
   "outputs": [
    {
     "name": "stdout",
     "output_type": "stream",
     "text": [
      "Found 5216 images belonging to 2 classes.\n",
      "Found 624 images belonging to 2 classes.\n"
     ]
    }
   ],
   "source": [
    "#Data Preprocessing\n",
    "# Define the paths to datasets\n",
    "train_dir = '/home/micoh/pn_dataset/chest_xray/train'\n",
    "test_dir = '/home/micoh/pn_dataset/chest_xray/test'\n",
    "\n",
    "# Image size and batch size\n",
    "img_size = (150, 150)\n",
    "batch_size = 32\n",
    "\n",
    "# Create ImageDataGenerator for data augmentation\n",
    "train_datagen = ImageDataGenerator(rescale=1./255,\n",
    "                                   shear_range=0.2,\n",
    "                                  zoom_range=0.2,\n",
    "                                   horizontal_flip=True)\n",
    "\n",
    "test_datagen = ImageDataGenerator(rescale=1./255)\n",
    "\n",
    "# Load and preprocess training data\n",
    "train_generator = train_datagen.flow_from_directory(train_dir,\n",
    "                                                    target_size=img_size,\n",
    "                                                    batch_size=batch_size,\n",
    "                                                    class_mode='binary')\n",
    "\n",
    "# Load and preprocess test data\n",
    "test_generator = test_datagen.flow_from_directory(test_dir,\n",
    "                                                  target_size=img_size,\n",
    "                                                  batch_size=batch_size,\n",
    "                                                  class_mode='binary')\n"
   ]
  },
  {
   "cell_type": "code",
   "execution_count": 3,
   "metadata": {},
   "outputs": [
    {
     "name": "stderr",
     "output_type": "stream",
     "text": [
      "2023-11-13 19:27:26.274168: I tensorflow/core/common_runtime/process_util.cc:146] Creating new thread pool with default inter op setting: 2. Tune using inter_op_parallelism_threads for best performance.\n"
     ]
    }
   ],
   "source": [
    "#Building CNN Model\n",
    "model = models.Sequential()\n",
    "model.add(layers.Conv2D(32, (3, 3), activation='relu', input_shape=(150, 150, 3)))\n",
    "model.add(layers.MaxPooling2D((2, 2)))\n",
    "model.add(layers.Conv2D(64, (3, 3), activation='relu'))\n",
    "model.add(layers.MaxPooling2D((2, 2)))\n",
    "model.add(layers.Conv2D(128, (3, 3), activation='relu'))\n",
    "model.add(layers.MaxPooling2D((2, 2)))\n",
    "model.add(layers.Flatten())\n",
    "model.add(layers.Dense(128, activation='relu'))\n",
    "model.add(layers.Dense(1, activation='sigmoid'))\n"
   ]
  },
  {
   "cell_type": "code",
   "execution_count": 4,
   "metadata": {},
   "outputs": [
    {
     "name": "stderr",
     "output_type": "stream",
     "text": [
      "WARNING:absl:`lr` is deprecated in Keras optimizer, please use `learning_rate` or use the legacy optimizer, e.g.,tf.keras.optimizers.legacy.RMSprop.\n"
     ]
    }
   ],
   "source": [
    "#Compiling the model\n",
    "model.compile(optimizer=RMSprop(lr=0.0001),\n",
    "              loss='binary_crossentropy',\n",
    "              metrics=['accuracy'])\n",
    "\n"
   ]
  },
  {
   "cell_type": "code",
   "execution_count": 5,
   "metadata": {},
   "outputs": [
    {
     "name": "stdout",
     "output_type": "stream",
     "text": [
      "Epoch 1/30\n"
     ]
    },
    {
     "name": "stderr",
     "output_type": "stream",
     "text": [
      "2023-11-13 19:27:28.566570: I tensorflow/core/common_runtime/executor.cc:1197] [/device:CPU:0] (DEBUG INFO) Executor start aborting (this does not indicate an error and you can ignore this message): INVALID_ARGUMENT: You must feed a value for placeholder tensor 'Placeholder/_0' with dtype int32\n",
      "\t [[{{node Placeholder/_0}}]]\n"
     ]
    },
    {
     "name": "stdout",
     "output_type": "stream",
     "text": [
      "163/163 [==============================] - ETA: 0s - loss: 0.5277 - accuracy: 0.7805"
     ]
    },
    {
     "name": "stderr",
     "output_type": "stream",
     "text": [
      "2023-11-13 19:34:18.778053: I tensorflow/core/common_runtime/executor.cc:1197] [/device:CPU:0] (DEBUG INFO) Executor start aborting (this does not indicate an error and you can ignore this message): INVALID_ARGUMENT: You must feed a value for placeholder tensor 'Placeholder/_0' with dtype int32\n",
      "\t [[{{node Placeholder/_0}}]]\n"
     ]
    },
    {
     "name": "stdout",
     "output_type": "stream",
     "text": [
      "163/163 [==============================] - 432s 3s/step - loss: 0.5277 - accuracy: 0.7805 - val_loss: 0.7959 - val_accuracy: 0.7147\n",
      "Epoch 2/30\n",
      "163/163 [==============================] - 427s 3s/step - loss: 0.2958 - accuracy: 0.8756 - val_loss: 1.0679 - val_accuracy: 0.6362\n",
      "Epoch 3/30\n",
      "163/163 [==============================] - 397s 2s/step - loss: 0.2504 - accuracy: 0.8992 - val_loss: 0.4517 - val_accuracy: 0.8237\n",
      "Epoch 4/30\n",
      "163/163 [==============================] - 416s 3s/step - loss: 0.2067 - accuracy: 0.9185 - val_loss: 0.4180 - val_accuracy: 0.8542\n",
      "Epoch 5/30\n",
      "163/163 [==============================] - 440s 3s/step - loss: 0.1930 - accuracy: 0.9247 - val_loss: 0.3040 - val_accuracy: 0.8894\n",
      "Epoch 6/30\n",
      "163/163 [==============================] - 487s 3s/step - loss: 0.1733 - accuracy: 0.9298 - val_loss: 0.3417 - val_accuracy: 0.8942\n",
      "Epoch 7/30\n",
      "163/163 [==============================] - 389s 2s/step - loss: 0.1596 - accuracy: 0.9425 - val_loss: 0.4498 - val_accuracy: 0.8510\n",
      "Epoch 8/30\n",
      "163/163 [==============================] - 375s 2s/step - loss: 0.1538 - accuracy: 0.9452 - val_loss: 0.4795 - val_accuracy: 0.8574\n",
      "Epoch 9/30\n",
      "163/163 [==============================] - 408s 3s/step - loss: 0.1395 - accuracy: 0.9463 - val_loss: 0.3392 - val_accuracy: 0.8990\n",
      "Epoch 10/30\n",
      "163/163 [==============================] - 427s 3s/step - loss: 0.1361 - accuracy: 0.9471 - val_loss: 0.3390 - val_accuracy: 0.9151\n",
      "Epoch 11/30\n",
      "163/163 [==============================] - 420s 3s/step - loss: 0.1418 - accuracy: 0.9479 - val_loss: 0.3399 - val_accuracy: 0.9087\n",
      "Epoch 12/30\n",
      "163/163 [==============================] - 394s 2s/step - loss: 0.1343 - accuracy: 0.9505 - val_loss: 0.4136 - val_accuracy: 0.8894\n",
      "Epoch 13/30\n",
      "163/163 [==============================] - 398s 2s/step - loss: 0.1230 - accuracy: 0.9549 - val_loss: 0.3882 - val_accuracy: 0.9183\n",
      "Epoch 14/30\n",
      "163/163 [==============================] - 387s 2s/step - loss: 0.1223 - accuracy: 0.9549 - val_loss: 0.3291 - val_accuracy: 0.9199\n",
      "Epoch 15/30\n",
      "163/163 [==============================] - 391s 2s/step - loss: 0.1213 - accuracy: 0.9571 - val_loss: 0.4913 - val_accuracy: 0.8670\n",
      "Epoch 16/30\n",
      "163/163 [==============================] - 406s 2s/step - loss: 0.1080 - accuracy: 0.9592 - val_loss: 0.4968 - val_accuracy: 0.9054\n",
      "Epoch 17/30\n",
      "163/163 [==============================] - 443s 3s/step - loss: 0.1065 - accuracy: 0.9607 - val_loss: 0.3523 - val_accuracy: 0.9279\n",
      "Epoch 18/30\n",
      "163/163 [==============================] - 398s 2s/step - loss: 0.1114 - accuracy: 0.9590 - val_loss: 0.3467 - val_accuracy: 0.9103\n",
      "Epoch 19/30\n",
      "163/163 [==============================] - 400s 2s/step - loss: 0.1116 - accuracy: 0.9599 - val_loss: 0.4003 - val_accuracy: 0.9054\n",
      "Epoch 20/30\n",
      "163/163 [==============================] - 437s 3s/step - loss: 0.1106 - accuracy: 0.9572 - val_loss: 0.5941 - val_accuracy: 0.8029\n",
      "Epoch 21/30\n",
      "163/163 [==============================] - 421s 3s/step - loss: 0.0994 - accuracy: 0.9611 - val_loss: 0.3027 - val_accuracy: 0.9087\n",
      "Epoch 22/30\n",
      "163/163 [==============================] - 395s 2s/step - loss: 0.0964 - accuracy: 0.9655 - val_loss: 0.5932 - val_accuracy: 0.8478\n",
      "Epoch 23/30\n",
      "163/163 [==============================] - 398s 2s/step - loss: 0.1012 - accuracy: 0.9607 - val_loss: 0.3959 - val_accuracy: 0.9054\n",
      "Epoch 24/30\n",
      "163/163 [==============================] - 427s 3s/step - loss: 0.0942 - accuracy: 0.9661 - val_loss: 0.5204 - val_accuracy: 0.8766\n",
      "Epoch 25/30\n",
      "163/163 [==============================] - 393s 2s/step - loss: 0.1000 - accuracy: 0.9638 - val_loss: 0.8460 - val_accuracy: 0.8397\n",
      "Epoch 26/30\n",
      "163/163 [==============================] - 413s 3s/step - loss: 0.0810 - accuracy: 0.9684 - val_loss: 0.2893 - val_accuracy: 0.9359\n",
      "Epoch 27/30\n",
      "163/163 [==============================] - 400s 2s/step - loss: 0.0903 - accuracy: 0.9691 - val_loss: 0.9125 - val_accuracy: 0.7724\n",
      "Epoch 28/30\n",
      "163/163 [==============================] - 410s 3s/step - loss: 0.0957 - accuracy: 0.9640 - val_loss: 0.3446 - val_accuracy: 0.9247\n",
      "Epoch 29/30\n",
      "163/163 [==============================] - 391s 2s/step - loss: 0.0883 - accuracy: 0.9684 - val_loss: 0.4413 - val_accuracy: 0.9103\n",
      "Epoch 30/30\n",
      "163/163 [==============================] - 402s 2s/step - loss: 0.0845 - accuracy: 0.9682 - val_loss: 0.5757 - val_accuracy: 0.8782\n"
     ]
    }
   ],
   "source": [
    "epochs = 20\n",
    "\n",
    "history = model.fit(train_generator,\n",
    "                    epochs=epochs,\n",
    "                    validation_data=test_generator)\n"
   ]
  },
  {
   "cell_type": "code",
   "execution_count": 6,
   "metadata": {},
   "outputs": [
    {
     "name": "stderr",
     "output_type": "stream",
     "text": [
      "2023-11-13 23:00:49.682410: I tensorflow/core/common_runtime/executor.cc:1197] [/device:CPU:0] (DEBUG INFO) Executor start aborting (this does not indicate an error and you can ignore this message): INVALID_ARGUMENT: You must feed a value for placeholder tensor 'Placeholder/_0' with dtype int32\n",
      "\t [[{{node Placeholder/_0}}]]\n"
     ]
    },
    {
     "name": "stdout",
     "output_type": "stream",
     "text": [
      "20/20 [==============================] - 20s 1s/step - loss: 0.5757 - accuracy: 0.8782\n",
      "Test accuracy: 0.8782051205635071\n"
     ]
    }
   ],
   "source": [
    "test_loss, test_acc = model.evaluate(test_generator)\n",
    "print(f'Test accuracy: {test_acc}')\n"
   ]
  },
  {
   "cell_type": "code",
   "execution_count": 10,
   "metadata": {},
   "outputs": [
    {
     "ename": "TypeError",
     "evalue": "'>' not supported between instances of 'list' and 'float'",
     "output_type": "error",
     "traceback": [
      "\u001b[0;31m---------------------------------------------------------------------------\u001b[0m",
      "\u001b[0;31mTypeError\u001b[0m                                 Traceback (most recent call last)",
      "\u001b[1;32m/home/micoh/flask/test.ipynb Cell 7\u001b[0m line \u001b[0;36m6\n\u001b[1;32m      <a href='vscode-notebook-cell:/home/micoh/flask/test.ipynb#W6sZmlsZQ%3D%3D?line=3'>4</a>\u001b[0m y_true \u001b[39m=\u001b[39m [\u001b[39m1\u001b[39m, \u001b[39m0\u001b[39m, \u001b[39m1\u001b[39m, \u001b[39m1\u001b[39m, \u001b[39m0\u001b[39m, \u001b[39m1\u001b[39m, \u001b[39m0\u001b[39m]\n\u001b[1;32m      <a href='vscode-notebook-cell:/home/micoh/flask/test.ipynb#W6sZmlsZQ%3D%3D?line=4'>5</a>\u001b[0m y_pred_probs \u001b[39m=\u001b[39m [\u001b[39m0.8\u001b[39m, \u001b[39m0.3\u001b[39m, \u001b[39m0.7\u001b[39m, \u001b[39m0.9\u001b[39m, \u001b[39m0.2\u001b[39m, \u001b[39m0.6\u001b[39m, \u001b[39m0.1\u001b[39m]\n\u001b[0;32m----> <a href='vscode-notebook-cell:/home/micoh/flask/test.ipynb#W6sZmlsZQ%3D%3D?line=5'>6</a>\u001b[0m y_pred \u001b[39m=\u001b[39m (y_pred_probs \u001b[39m>\u001b[39m \u001b[39m0.5\u001b[39m)\u001b[39m.\u001b[39mastype(\u001b[39mint\u001b[39m)\n\u001b[1;32m      <a href='vscode-notebook-cell:/home/micoh/flask/test.ipynb#W6sZmlsZQ%3D%3D?line=7'>8</a>\u001b[0m \u001b[39m# Compute metrics\u001b[39;00m\n\u001b[1;32m      <a href='vscode-notebook-cell:/home/micoh/flask/test.ipynb#W6sZmlsZQ%3D%3D?line=8'>9</a>\u001b[0m accuracy \u001b[39m=\u001b[39m accuracy_score(y_true, y_pred)\n",
      "\u001b[0;31mTypeError\u001b[0m: '>' not supported between instances of 'list' and 'float'"
     ]
    }
   ],
   "source": [
    "from sklearn.metrics import accuracy_score, precision_score, recall_score, f1_score, roc_auc_score\n",
    "\n",
    "# Assuming y_true and y_pred are your true labels and predicted labels\n",
    "y_true = [1, 0, 1, 1, 0, 1, 0]\n",
    "y_pred_probs = [0.8, 0.3, 0.7, 0.9, 0.2, 0.6, 0.1]\n",
    "y_pred = (y_pred_probs > 0.5).astype(int)\n",
    "\n",
    "# Compute metrics\n",
    "accuracy = accuracy_score(y_true, y_pred)\n",
    "precision = precision_score(y_true, y_pred)\n",
    "recall = recall_score(y_true, y_pred)\n",
    "f1 = f1_score(y_true, y_pred)\n",
    "roc_auc = roc_auc_score(y_true, y_pred_probs)\n",
    "\n",
    "print(f\"Accuracy: {accuracy}\")\n",
    "print(f\"Precision: {precision}\")\n",
    "print(f\"Recall: {recall}\")\n",
    "print(f\"F1 Score: {f1}\")\n",
    "print(f\"AUC-ROC: {roc_auc}\")\n",
    "\n",
    "# Make predictions on the test set\n",
    "y_true = test_generator.classes\n",
    "y_pred_probs = model.predict(test_generator)\n",
    "y_pred = (y_pred_probs > 0.5).astype(int)\n",
    "\n",
    "# Compute metrics\n",
    "accuracy = accuracy_score(y_true, y_pred)\n",
    "precision = precision_score(y_true, y_pred)\n",
    "recall = recall_score(y_true, y_pred)\n",
    "f1 = f1_score(y_true, y_pred)\n",
    "\n",
    "roc_auc = roc_auc_score(y_true, y_pred_probs)\n",
    "\n",
    "# Print the metrics\n",
    "print(f\"Accuracy: {accuracy}\")\n",
    "print(f\"Precision: {precision}\")\n",
    "print(f\"Recall: {recall}\")\n",
    "print(f\"F1 Score: {f1}\")\n",
    "print(f\"AUC-ROC: {roc_auc}\")"
   ]
  },
  {
   "cell_type": "code",
   "execution_count": null,
   "metadata": {},
   "outputs": [],
   "source": []
  }
 ],
 "metadata": {
  "kernelspec": {
   "display_name": "base",
   "language": "python",
   "name": "python3"
  },
  "language_info": {
   "codemirror_mode": {
    "name": "ipython",
    "version": 3
   },
   "file_extension": ".py",
   "mimetype": "text/x-python",
   "name": "python",
   "nbconvert_exporter": "python",
   "pygments_lexer": "ipython3",
   "version": "3.11.4"
  }
 },
 "nbformat": 4,
 "nbformat_minor": 2
}
